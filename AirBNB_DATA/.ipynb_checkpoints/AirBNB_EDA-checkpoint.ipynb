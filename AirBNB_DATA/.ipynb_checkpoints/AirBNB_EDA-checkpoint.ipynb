{
 "cells": [
  {
   "cell_type": "code",
   "execution_count": 1,
   "id": "a7861446",
   "metadata": {
    "scrolled": true
   },
   "outputs": [
    {
     "name": "stderr",
     "output_type": "stream",
     "text": [
      "/Users/michealrawlings/opt/anaconda3/lib/python3.9/site-packages/scipy/__init__.py:146: UserWarning: A NumPy version >=1.16.5 and <1.23.0 is required for this version of SciPy (detected version 1.23.5\n",
      "  warnings.warn(f\"A NumPy version >={np_minversion} and <{np_maxversion}\"\n"
     ]
    }
   ],
   "source": [
    "# import pandas, matplotlib, seaborn, numpy\n",
    "import pandas as pd\n",
    "import numpy as np\n",
    "import matplotlib.pyplot as plt\n",
    "import seaborn as sns\n",
    "\n",
    "# Set the visual style for plots\n",
    "sns.set_style(\"whitegrid\")\n",
    "\n",
    "# Enable plots to show inline in Jupyter Notebook\n",
    "%matplotlib inline"
   ]
  },
  {
   "cell_type": "code",
   "execution_count": 2,
   "id": "5a92a680",
   "metadata": {},
   "outputs": [],
   "source": [
    "# Load the dataset into a pandas dataframe\n",
    "airbnb_df = pd.read_csv('AB_NYC_2019.csv')"
   ]
  },
  {
   "cell_type": "markdown",
   "id": "42a7123c",
   "metadata": {},
   "source": [
    "Exploration of the Dataset"
   ]
  },
  {
   "cell_type": "code",
   "execution_count": 3,
   "id": "1bcaedc8",
   "metadata": {},
   "outputs": [
    {
     "data": {
      "text/html": [
       "<div>\n",
       "<style scoped>\n",
       "    .dataframe tbody tr th:only-of-type {\n",
       "        vertical-align: middle;\n",
       "    }\n",
       "\n",
       "    .dataframe tbody tr th {\n",
       "        vertical-align: top;\n",
       "    }\n",
       "\n",
       "    .dataframe thead th {\n",
       "        text-align: right;\n",
       "    }\n",
       "</style>\n",
       "<table border=\"1\" class=\"dataframe\">\n",
       "  <thead>\n",
       "    <tr style=\"text-align: right;\">\n",
       "      <th></th>\n",
       "      <th>id</th>\n",
       "      <th>name</th>\n",
       "      <th>host_id</th>\n",
       "      <th>host_name</th>\n",
       "      <th>neighbourhood_group</th>\n",
       "      <th>neighbourhood</th>\n",
       "      <th>latitude</th>\n",
       "      <th>longitude</th>\n",
       "      <th>room_type</th>\n",
       "      <th>price</th>\n",
       "      <th>minimum_nights</th>\n",
       "      <th>number_of_reviews</th>\n",
       "      <th>last_review</th>\n",
       "      <th>reviews_per_month</th>\n",
       "      <th>calculated_host_listings_count</th>\n",
       "      <th>availability_365</th>\n",
       "    </tr>\n",
       "  </thead>\n",
       "  <tbody>\n",
       "    <tr>\n",
       "      <th>0</th>\n",
       "      <td>2539</td>\n",
       "      <td>Clean &amp; quiet apt home by the park</td>\n",
       "      <td>2787</td>\n",
       "      <td>John</td>\n",
       "      <td>Brooklyn</td>\n",
       "      <td>Kensington</td>\n",
       "      <td>40.64749</td>\n",
       "      <td>-73.97237</td>\n",
       "      <td>Private room</td>\n",
       "      <td>149</td>\n",
       "      <td>1</td>\n",
       "      <td>9</td>\n",
       "      <td>2018-10-19</td>\n",
       "      <td>0.21</td>\n",
       "      <td>6</td>\n",
       "      <td>365</td>\n",
       "    </tr>\n",
       "    <tr>\n",
       "      <th>1</th>\n",
       "      <td>2595</td>\n",
       "      <td>Skylit Midtown Castle</td>\n",
       "      <td>2845</td>\n",
       "      <td>Jennifer</td>\n",
       "      <td>Manhattan</td>\n",
       "      <td>Midtown</td>\n",
       "      <td>40.75362</td>\n",
       "      <td>-73.98377</td>\n",
       "      <td>Entire home/apt</td>\n",
       "      <td>225</td>\n",
       "      <td>1</td>\n",
       "      <td>45</td>\n",
       "      <td>2019-05-21</td>\n",
       "      <td>0.38</td>\n",
       "      <td>2</td>\n",
       "      <td>355</td>\n",
       "    </tr>\n",
       "    <tr>\n",
       "      <th>2</th>\n",
       "      <td>3647</td>\n",
       "      <td>THE VILLAGE OF HARLEM....NEW YORK !</td>\n",
       "      <td>4632</td>\n",
       "      <td>Elisabeth</td>\n",
       "      <td>Manhattan</td>\n",
       "      <td>Harlem</td>\n",
       "      <td>40.80902</td>\n",
       "      <td>-73.94190</td>\n",
       "      <td>Private room</td>\n",
       "      <td>150</td>\n",
       "      <td>3</td>\n",
       "      <td>0</td>\n",
       "      <td>NaN</td>\n",
       "      <td>NaN</td>\n",
       "      <td>1</td>\n",
       "      <td>365</td>\n",
       "    </tr>\n",
       "    <tr>\n",
       "      <th>3</th>\n",
       "      <td>3831</td>\n",
       "      <td>Cozy Entire Floor of Brownstone</td>\n",
       "      <td>4869</td>\n",
       "      <td>LisaRoxanne</td>\n",
       "      <td>Brooklyn</td>\n",
       "      <td>Clinton Hill</td>\n",
       "      <td>40.68514</td>\n",
       "      <td>-73.95976</td>\n",
       "      <td>Entire home/apt</td>\n",
       "      <td>89</td>\n",
       "      <td>1</td>\n",
       "      <td>270</td>\n",
       "      <td>2019-07-05</td>\n",
       "      <td>4.64</td>\n",
       "      <td>1</td>\n",
       "      <td>194</td>\n",
       "    </tr>\n",
       "    <tr>\n",
       "      <th>4</th>\n",
       "      <td>5022</td>\n",
       "      <td>Entire Apt: Spacious Studio/Loft by central park</td>\n",
       "      <td>7192</td>\n",
       "      <td>Laura</td>\n",
       "      <td>Manhattan</td>\n",
       "      <td>East Harlem</td>\n",
       "      <td>40.79851</td>\n",
       "      <td>-73.94399</td>\n",
       "      <td>Entire home/apt</td>\n",
       "      <td>80</td>\n",
       "      <td>10</td>\n",
       "      <td>9</td>\n",
       "      <td>2018-11-19</td>\n",
       "      <td>0.10</td>\n",
       "      <td>1</td>\n",
       "      <td>0</td>\n",
       "    </tr>\n",
       "  </tbody>\n",
       "</table>\n",
       "</div>"
      ],
      "text/plain": [
       "     id                                              name  host_id  \\\n",
       "0  2539                Clean & quiet apt home by the park     2787   \n",
       "1  2595                             Skylit Midtown Castle     2845   \n",
       "2  3647               THE VILLAGE OF HARLEM....NEW YORK !     4632   \n",
       "3  3831                   Cozy Entire Floor of Brownstone     4869   \n",
       "4  5022  Entire Apt: Spacious Studio/Loft by central park     7192   \n",
       "\n",
       "     host_name neighbourhood_group neighbourhood  latitude  longitude  \\\n",
       "0         John            Brooklyn    Kensington  40.64749  -73.97237   \n",
       "1     Jennifer           Manhattan       Midtown  40.75362  -73.98377   \n",
       "2    Elisabeth           Manhattan        Harlem  40.80902  -73.94190   \n",
       "3  LisaRoxanne            Brooklyn  Clinton Hill  40.68514  -73.95976   \n",
       "4        Laura           Manhattan   East Harlem  40.79851  -73.94399   \n",
       "\n",
       "         room_type  price  minimum_nights  number_of_reviews last_review  \\\n",
       "0     Private room    149               1                  9  2018-10-19   \n",
       "1  Entire home/apt    225               1                 45  2019-05-21   \n",
       "2     Private room    150               3                  0         NaN   \n",
       "3  Entire home/apt     89               1                270  2019-07-05   \n",
       "4  Entire home/apt     80              10                  9  2018-11-19   \n",
       "\n",
       "   reviews_per_month  calculated_host_listings_count  availability_365  \n",
       "0               0.21                               6               365  \n",
       "1               0.38                               2               355  \n",
       "2                NaN                               1               365  \n",
       "3               4.64                               1               194  \n",
       "4               0.10                               1                 0  "
      ]
     },
     "execution_count": 3,
     "metadata": {},
     "output_type": "execute_result"
    }
   ],
   "source": [
    "#Preview of the first few rows\n",
    "airbnb_df.head()"
   ]
  },
  {
   "cell_type": "code",
   "execution_count": 4,
   "id": "a21f29ba",
   "metadata": {},
   "outputs": [
    {
     "data": {
      "text/plain": [
       "(48895, 16)"
      ]
     },
     "execution_count": 4,
     "metadata": {},
     "output_type": "execute_result"
    }
   ],
   "source": [
    "# Dataframe shape\n",
    "airbnb_df.shape"
   ]
  },
  {
   "cell_type": "code",
   "execution_count": 5,
   "id": "8921835b",
   "metadata": {
    "scrolled": false
   },
   "outputs": [
    {
     "name": "stdout",
     "output_type": "stream",
     "text": [
      "<class 'pandas.core.frame.DataFrame'>\n",
      "RangeIndex: 48895 entries, 0 to 48894\n",
      "Data columns (total 16 columns):\n",
      " #   Column                          Non-Null Count  Dtype  \n",
      "---  ------                          --------------  -----  \n",
      " 0   id                              48895 non-null  int64  \n",
      " 1   name                            48879 non-null  object \n",
      " 2   host_id                         48895 non-null  int64  \n",
      " 3   host_name                       48874 non-null  object \n",
      " 4   neighbourhood_group             48895 non-null  object \n",
      " 5   neighbourhood                   48895 non-null  object \n",
      " 6   latitude                        48895 non-null  float64\n",
      " 7   longitude                       48895 non-null  float64\n",
      " 8   room_type                       48895 non-null  object \n",
      " 9   price                           48895 non-null  int64  \n",
      " 10  minimum_nights                  48895 non-null  int64  \n",
      " 11  number_of_reviews               48895 non-null  int64  \n",
      " 12  last_review                     38843 non-null  object \n",
      " 13  reviews_per_month               38843 non-null  float64\n",
      " 14  calculated_host_listings_count  48895 non-null  int64  \n",
      " 15  availability_365                48895 non-null  int64  \n",
      "dtypes: float64(3), int64(7), object(6)\n",
      "memory usage: 6.0+ MB\n"
     ]
    }
   ],
   "source": [
    "# Dataframe column names and types\n",
    "airbnb_df.info()"
   ]
  },
  {
   "cell_type": "code",
   "execution_count": 6,
   "id": "daadd319",
   "metadata": {},
   "outputs": [
    {
     "data": {
      "text/html": [
       "<div>\n",
       "<style scoped>\n",
       "    .dataframe tbody tr th:only-of-type {\n",
       "        vertical-align: middle;\n",
       "    }\n",
       "\n",
       "    .dataframe tbody tr th {\n",
       "        vertical-align: top;\n",
       "    }\n",
       "\n",
       "    .dataframe thead th {\n",
       "        text-align: right;\n",
       "    }\n",
       "</style>\n",
       "<table border=\"1\" class=\"dataframe\">\n",
       "  <thead>\n",
       "    <tr style=\"text-align: right;\">\n",
       "      <th></th>\n",
       "      <th>id</th>\n",
       "      <th>host_id</th>\n",
       "      <th>latitude</th>\n",
       "      <th>longitude</th>\n",
       "      <th>price</th>\n",
       "      <th>minimum_nights</th>\n",
       "      <th>number_of_reviews</th>\n",
       "      <th>reviews_per_month</th>\n",
       "      <th>calculated_host_listings_count</th>\n",
       "      <th>availability_365</th>\n",
       "    </tr>\n",
       "  </thead>\n",
       "  <tbody>\n",
       "    <tr>\n",
       "      <th>count</th>\n",
       "      <td>4.889500e+04</td>\n",
       "      <td>4.889500e+04</td>\n",
       "      <td>48895.000000</td>\n",
       "      <td>48895.000000</td>\n",
       "      <td>48895.000000</td>\n",
       "      <td>48895.000000</td>\n",
       "      <td>48895.000000</td>\n",
       "      <td>38843.000000</td>\n",
       "      <td>48895.000000</td>\n",
       "      <td>48895.000000</td>\n",
       "    </tr>\n",
       "    <tr>\n",
       "      <th>mean</th>\n",
       "      <td>1.901714e+07</td>\n",
       "      <td>6.762001e+07</td>\n",
       "      <td>40.728949</td>\n",
       "      <td>-73.952170</td>\n",
       "      <td>152.720687</td>\n",
       "      <td>7.029962</td>\n",
       "      <td>23.274466</td>\n",
       "      <td>1.373221</td>\n",
       "      <td>7.143982</td>\n",
       "      <td>112.781327</td>\n",
       "    </tr>\n",
       "    <tr>\n",
       "      <th>std</th>\n",
       "      <td>1.098311e+07</td>\n",
       "      <td>7.861097e+07</td>\n",
       "      <td>0.054530</td>\n",
       "      <td>0.046157</td>\n",
       "      <td>240.154170</td>\n",
       "      <td>20.510550</td>\n",
       "      <td>44.550582</td>\n",
       "      <td>1.680442</td>\n",
       "      <td>32.952519</td>\n",
       "      <td>131.622289</td>\n",
       "    </tr>\n",
       "    <tr>\n",
       "      <th>min</th>\n",
       "      <td>2.539000e+03</td>\n",
       "      <td>2.438000e+03</td>\n",
       "      <td>40.499790</td>\n",
       "      <td>-74.244420</td>\n",
       "      <td>0.000000</td>\n",
       "      <td>1.000000</td>\n",
       "      <td>0.000000</td>\n",
       "      <td>0.010000</td>\n",
       "      <td>1.000000</td>\n",
       "      <td>0.000000</td>\n",
       "    </tr>\n",
       "    <tr>\n",
       "      <th>25%</th>\n",
       "      <td>9.471945e+06</td>\n",
       "      <td>7.822033e+06</td>\n",
       "      <td>40.690100</td>\n",
       "      <td>-73.983070</td>\n",
       "      <td>69.000000</td>\n",
       "      <td>1.000000</td>\n",
       "      <td>1.000000</td>\n",
       "      <td>0.190000</td>\n",
       "      <td>1.000000</td>\n",
       "      <td>0.000000</td>\n",
       "    </tr>\n",
       "    <tr>\n",
       "      <th>50%</th>\n",
       "      <td>1.967728e+07</td>\n",
       "      <td>3.079382e+07</td>\n",
       "      <td>40.723070</td>\n",
       "      <td>-73.955680</td>\n",
       "      <td>106.000000</td>\n",
       "      <td>3.000000</td>\n",
       "      <td>5.000000</td>\n",
       "      <td>0.720000</td>\n",
       "      <td>1.000000</td>\n",
       "      <td>45.000000</td>\n",
       "    </tr>\n",
       "    <tr>\n",
       "      <th>75%</th>\n",
       "      <td>2.915218e+07</td>\n",
       "      <td>1.074344e+08</td>\n",
       "      <td>40.763115</td>\n",
       "      <td>-73.936275</td>\n",
       "      <td>175.000000</td>\n",
       "      <td>5.000000</td>\n",
       "      <td>24.000000</td>\n",
       "      <td>2.020000</td>\n",
       "      <td>2.000000</td>\n",
       "      <td>227.000000</td>\n",
       "    </tr>\n",
       "    <tr>\n",
       "      <th>max</th>\n",
       "      <td>3.648724e+07</td>\n",
       "      <td>2.743213e+08</td>\n",
       "      <td>40.913060</td>\n",
       "      <td>-73.712990</td>\n",
       "      <td>10000.000000</td>\n",
       "      <td>1250.000000</td>\n",
       "      <td>629.000000</td>\n",
       "      <td>58.500000</td>\n",
       "      <td>327.000000</td>\n",
       "      <td>365.000000</td>\n",
       "    </tr>\n",
       "  </tbody>\n",
       "</table>\n",
       "</div>"
      ],
      "text/plain": [
       "                 id       host_id      latitude     longitude         price  \\\n",
       "count  4.889500e+04  4.889500e+04  48895.000000  48895.000000  48895.000000   \n",
       "mean   1.901714e+07  6.762001e+07     40.728949    -73.952170    152.720687   \n",
       "std    1.098311e+07  7.861097e+07      0.054530      0.046157    240.154170   \n",
       "min    2.539000e+03  2.438000e+03     40.499790    -74.244420      0.000000   \n",
       "25%    9.471945e+06  7.822033e+06     40.690100    -73.983070     69.000000   \n",
       "50%    1.967728e+07  3.079382e+07     40.723070    -73.955680    106.000000   \n",
       "75%    2.915218e+07  1.074344e+08     40.763115    -73.936275    175.000000   \n",
       "max    3.648724e+07  2.743213e+08     40.913060    -73.712990  10000.000000   \n",
       "\n",
       "       minimum_nights  number_of_reviews  reviews_per_month  \\\n",
       "count    48895.000000       48895.000000       38843.000000   \n",
       "mean         7.029962          23.274466           1.373221   \n",
       "std         20.510550          44.550582           1.680442   \n",
       "min          1.000000           0.000000           0.010000   \n",
       "25%          1.000000           1.000000           0.190000   \n",
       "50%          3.000000           5.000000           0.720000   \n",
       "75%          5.000000          24.000000           2.020000   \n",
       "max       1250.000000         629.000000          58.500000   \n",
       "\n",
       "       calculated_host_listings_count  availability_365  \n",
       "count                    48895.000000      48895.000000  \n",
       "mean                         7.143982        112.781327  \n",
       "std                         32.952519        131.622289  \n",
       "min                          1.000000          0.000000  \n",
       "25%                          1.000000          0.000000  \n",
       "50%                          1.000000         45.000000  \n",
       "75%                          2.000000        227.000000  \n",
       "max                        327.000000        365.000000  "
      ]
     },
     "execution_count": 6,
     "metadata": {},
     "output_type": "execute_result"
    }
   ],
   "source": [
    "# Basic Stats for numeric columns\n",
    "airbnb_df.describe()"
   ]
  },
  {
   "cell_type": "code",
   "execution_count": 7,
   "id": "2c14e3fe",
   "metadata": {},
   "outputs": [
    {
     "data": {
      "text/plain": [
       "id                                    0\n",
       "name                                 16\n",
       "host_id                               0\n",
       "host_name                            21\n",
       "neighbourhood_group                   0\n",
       "neighbourhood                         0\n",
       "latitude                              0\n",
       "longitude                             0\n",
       "room_type                             0\n",
       "price                                 0\n",
       "minimum_nights                        0\n",
       "number_of_reviews                     0\n",
       "last_review                       10052\n",
       "reviews_per_month                 10052\n",
       "calculated_host_listings_count        0\n",
       "availability_365                      0\n",
       "dtype: int64"
      ]
     },
     "execution_count": 7,
     "metadata": {},
     "output_type": "execute_result"
    }
   ],
   "source": [
    "# Check for missing values\n",
    "airbnb_df.isnull().sum()"
   ]
  },
  {
   "cell_type": "code",
   "execution_count": 8,
   "id": "c269287f",
   "metadata": {},
   "outputs": [
    {
     "data": {
      "text/html": [
       "<div>\n",
       "<style scoped>\n",
       "    .dataframe tbody tr th:only-of-type {\n",
       "        vertical-align: middle;\n",
       "    }\n",
       "\n",
       "    .dataframe tbody tr th {\n",
       "        vertical-align: top;\n",
       "    }\n",
       "\n",
       "    .dataframe thead th {\n",
       "        text-align: right;\n",
       "    }\n",
       "</style>\n",
       "<table border=\"1\" class=\"dataframe\">\n",
       "  <thead>\n",
       "    <tr style=\"text-align: right;\">\n",
       "      <th></th>\n",
       "      <th>Missing Count</th>\n",
       "      <th>Missing %</th>\n",
       "    </tr>\n",
       "  </thead>\n",
       "  <tbody>\n",
       "    <tr>\n",
       "      <th>last_review</th>\n",
       "      <td>10052</td>\n",
       "      <td>20.558339</td>\n",
       "    </tr>\n",
       "    <tr>\n",
       "      <th>reviews_per_month</th>\n",
       "      <td>10052</td>\n",
       "      <td>20.558339</td>\n",
       "    </tr>\n",
       "    <tr>\n",
       "      <th>host_name</th>\n",
       "      <td>21</td>\n",
       "      <td>0.042949</td>\n",
       "    </tr>\n",
       "    <tr>\n",
       "      <th>name</th>\n",
       "      <td>16</td>\n",
       "      <td>0.032723</td>\n",
       "    </tr>\n",
       "  </tbody>\n",
       "</table>\n",
       "</div>"
      ],
      "text/plain": [
       "                   Missing Count  Missing %\n",
       "last_review                10052  20.558339\n",
       "reviews_per_month          10052  20.558339\n",
       "host_name                     21   0.042949\n",
       "name                          16   0.032723"
      ]
     },
     "execution_count": 8,
     "metadata": {},
     "output_type": "execute_result"
    }
   ],
   "source": [
    "# Investigate missing values\n",
    "missing = airbnb_df.isnull().sum()\n",
    "\n",
    "# Make a percentage of missing values\n",
    "missing_percent = (missing / len(airbnb_df)) * 100\n",
    "\n",
    "# Dataframe for missing values\n",
    "missing_df = pd.DataFrame({'Missing Count': missing, 'Missing %': missing_percent})\n",
    "\n",
    "# Filter dataframe for missing values\n",
    "missing_df = missing_df[missing_df['Missing Count'] > 0]\n",
    "\n",
    "# Sort columns for highest missing values\n",
    "missing_df.sort_values(by='Missing %', ascending=False)"
   ]
  },
  {
   "cell_type": "markdown",
   "id": "3f987ac7",
   "metadata": {},
   "source": [
    "Handle missing values of the 4 columns"
   ]
  },
  {
   "cell_type": "code",
   "execution_count": 9,
   "id": "196898d5",
   "metadata": {},
   "outputs": [],
   "source": [
    "# Fill missing reviews with placeholders\n",
    "airbnb_df['last_review'] = airbnb_df['last_review'].fillna('No reviews')"
   ]
  },
  {
   "cell_type": "code",
   "execution_count": 10,
   "id": "7e0e923a",
   "metadata": {},
   "outputs": [],
   "source": [
    "# Fill missing reviews per month with placeholders\n",
    "airbnb_df['reviews_per_month'] = airbnb_df['reviews_per_month'].fillna(0)"
   ]
  },
  {
   "cell_type": "code",
   "execution_count": 11,
   "id": "9f8ddf66",
   "metadata": {},
   "outputs": [],
   "source": [
    "# Replace missing host names with 'Unknown'\n",
    "airbnb_df['host_name'] = airbnb_df['host_name'].fillna('Unkown')"
   ]
  },
  {
   "cell_type": "code",
   "execution_count": 12,
   "id": "5209e3c6",
   "metadata": {},
   "outputs": [],
   "source": [
    "# Drop rows with missing name since information is important\n",
    "airbnb_df = airbnb_df.dropna(subset=['name'])"
   ]
  },
  {
   "cell_type": "code",
   "execution_count": 13,
   "id": "c0ae99db",
   "metadata": {},
   "outputs": [
    {
     "data": {
      "text/plain": [
       "id                                0\n",
       "name                              0\n",
       "host_id                           0\n",
       "host_name                         0\n",
       "neighbourhood_group               0\n",
       "neighbourhood                     0\n",
       "latitude                          0\n",
       "longitude                         0\n",
       "room_type                         0\n",
       "price                             0\n",
       "minimum_nights                    0\n",
       "number_of_reviews                 0\n",
       "last_review                       0\n",
       "reviews_per_month                 0\n",
       "calculated_host_listings_count    0\n",
       "availability_365                  0\n",
       "dtype: int64"
      ]
     },
     "execution_count": 13,
     "metadata": {},
     "output_type": "execute_result"
    }
   ],
   "source": [
    "# Verify there are no more missing values\n",
    "airbnb_df.isnull().sum()"
   ]
  },
  {
   "cell_type": "markdown",
   "id": "555fccc5",
   "metadata": {},
   "source": [
    "Explore column datatypes, set id to be the index"
   ]
  },
  {
   "cell_type": "code",
   "execution_count": 14,
   "id": "7760b14c",
   "metadata": {
    "scrolled": false
   },
   "outputs": [
    {
     "name": "stdout",
     "output_type": "stream",
     "text": [
      "<class 'pandas.core.frame.DataFrame'>\n",
      "Int64Index: 48879 entries, 0 to 48894\n",
      "Data columns (total 16 columns):\n",
      " #   Column                          Non-Null Count  Dtype  \n",
      "---  ------                          --------------  -----  \n",
      " 0   id                              48879 non-null  int64  \n",
      " 1   name                            48879 non-null  object \n",
      " 2   host_id                         48879 non-null  int64  \n",
      " 3   host_name                       48879 non-null  object \n",
      " 4   neighbourhood_group             48879 non-null  object \n",
      " 5   neighbourhood                   48879 non-null  object \n",
      " 6   latitude                        48879 non-null  float64\n",
      " 7   longitude                       48879 non-null  float64\n",
      " 8   room_type                       48879 non-null  object \n",
      " 9   price                           48879 non-null  int64  \n",
      " 10  minimum_nights                  48879 non-null  int64  \n",
      " 11  number_of_reviews               48879 non-null  int64  \n",
      " 12  last_review                     48879 non-null  object \n",
      " 13  reviews_per_month               48879 non-null  float64\n",
      " 14  calculated_host_listings_count  48879 non-null  int64  \n",
      " 15  availability_365                48879 non-null  int64  \n",
      "dtypes: float64(3), int64(7), object(6)\n",
      "memory usage: 6.3+ MB\n"
     ]
    }
   ],
   "source": [
    "airbnb_df.info()"
   ]
  },
  {
   "cell_type": "code",
   "execution_count": 15,
   "id": "c45f8350",
   "metadata": {},
   "outputs": [],
   "source": [
    "airbnb_df.set_index('id', inplace=True)"
   ]
  },
  {
   "cell_type": "code",
   "execution_count": 16,
   "id": "ba73b040",
   "metadata": {},
   "outputs": [
    {
     "data": {
      "text/html": [
       "<div>\n",
       "<style scoped>\n",
       "    .dataframe tbody tr th:only-of-type {\n",
       "        vertical-align: middle;\n",
       "    }\n",
       "\n",
       "    .dataframe tbody tr th {\n",
       "        vertical-align: top;\n",
       "    }\n",
       "\n",
       "    .dataframe thead th {\n",
       "        text-align: right;\n",
       "    }\n",
       "</style>\n",
       "<table border=\"1\" class=\"dataframe\">\n",
       "  <thead>\n",
       "    <tr style=\"text-align: right;\">\n",
       "      <th></th>\n",
       "      <th>name</th>\n",
       "      <th>host_id</th>\n",
       "      <th>host_name</th>\n",
       "      <th>neighbourhood_group</th>\n",
       "      <th>neighbourhood</th>\n",
       "      <th>latitude</th>\n",
       "      <th>longitude</th>\n",
       "      <th>room_type</th>\n",
       "      <th>price</th>\n",
       "      <th>minimum_nights</th>\n",
       "      <th>number_of_reviews</th>\n",
       "      <th>last_review</th>\n",
       "      <th>reviews_per_month</th>\n",
       "      <th>calculated_host_listings_count</th>\n",
       "      <th>availability_365</th>\n",
       "    </tr>\n",
       "    <tr>\n",
       "      <th>id</th>\n",
       "      <th></th>\n",
       "      <th></th>\n",
       "      <th></th>\n",
       "      <th></th>\n",
       "      <th></th>\n",
       "      <th></th>\n",
       "      <th></th>\n",
       "      <th></th>\n",
       "      <th></th>\n",
       "      <th></th>\n",
       "      <th></th>\n",
       "      <th></th>\n",
       "      <th></th>\n",
       "      <th></th>\n",
       "      <th></th>\n",
       "    </tr>\n",
       "  </thead>\n",
       "  <tbody>\n",
       "    <tr>\n",
       "      <th>2539</th>\n",
       "      <td>Clean &amp; quiet apt home by the park</td>\n",
       "      <td>2787</td>\n",
       "      <td>John</td>\n",
       "      <td>Brooklyn</td>\n",
       "      <td>Kensington</td>\n",
       "      <td>40.64749</td>\n",
       "      <td>-73.97237</td>\n",
       "      <td>Private room</td>\n",
       "      <td>149</td>\n",
       "      <td>1</td>\n",
       "      <td>9</td>\n",
       "      <td>2018-10-19</td>\n",
       "      <td>0.21</td>\n",
       "      <td>6</td>\n",
       "      <td>365</td>\n",
       "    </tr>\n",
       "    <tr>\n",
       "      <th>2595</th>\n",
       "      <td>Skylit Midtown Castle</td>\n",
       "      <td>2845</td>\n",
       "      <td>Jennifer</td>\n",
       "      <td>Manhattan</td>\n",
       "      <td>Midtown</td>\n",
       "      <td>40.75362</td>\n",
       "      <td>-73.98377</td>\n",
       "      <td>Entire home/apt</td>\n",
       "      <td>225</td>\n",
       "      <td>1</td>\n",
       "      <td>45</td>\n",
       "      <td>2019-05-21</td>\n",
       "      <td>0.38</td>\n",
       "      <td>2</td>\n",
       "      <td>355</td>\n",
       "    </tr>\n",
       "    <tr>\n",
       "      <th>3647</th>\n",
       "      <td>THE VILLAGE OF HARLEM....NEW YORK !</td>\n",
       "      <td>4632</td>\n",
       "      <td>Elisabeth</td>\n",
       "      <td>Manhattan</td>\n",
       "      <td>Harlem</td>\n",
       "      <td>40.80902</td>\n",
       "      <td>-73.94190</td>\n",
       "      <td>Private room</td>\n",
       "      <td>150</td>\n",
       "      <td>3</td>\n",
       "      <td>0</td>\n",
       "      <td>No reviews</td>\n",
       "      <td>0.00</td>\n",
       "      <td>1</td>\n",
       "      <td>365</td>\n",
       "    </tr>\n",
       "    <tr>\n",
       "      <th>3831</th>\n",
       "      <td>Cozy Entire Floor of Brownstone</td>\n",
       "      <td>4869</td>\n",
       "      <td>LisaRoxanne</td>\n",
       "      <td>Brooklyn</td>\n",
       "      <td>Clinton Hill</td>\n",
       "      <td>40.68514</td>\n",
       "      <td>-73.95976</td>\n",
       "      <td>Entire home/apt</td>\n",
       "      <td>89</td>\n",
       "      <td>1</td>\n",
       "      <td>270</td>\n",
       "      <td>2019-07-05</td>\n",
       "      <td>4.64</td>\n",
       "      <td>1</td>\n",
       "      <td>194</td>\n",
       "    </tr>\n",
       "    <tr>\n",
       "      <th>5022</th>\n",
       "      <td>Entire Apt: Spacious Studio/Loft by central park</td>\n",
       "      <td>7192</td>\n",
       "      <td>Laura</td>\n",
       "      <td>Manhattan</td>\n",
       "      <td>East Harlem</td>\n",
       "      <td>40.79851</td>\n",
       "      <td>-73.94399</td>\n",
       "      <td>Entire home/apt</td>\n",
       "      <td>80</td>\n",
       "      <td>10</td>\n",
       "      <td>9</td>\n",
       "      <td>2018-11-19</td>\n",
       "      <td>0.10</td>\n",
       "      <td>1</td>\n",
       "      <td>0</td>\n",
       "    </tr>\n",
       "  </tbody>\n",
       "</table>\n",
       "</div>"
      ],
      "text/plain": [
       "                                                  name  host_id    host_name  \\\n",
       "id                                                                             \n",
       "2539                Clean & quiet apt home by the park     2787         John   \n",
       "2595                             Skylit Midtown Castle     2845     Jennifer   \n",
       "3647               THE VILLAGE OF HARLEM....NEW YORK !     4632    Elisabeth   \n",
       "3831                   Cozy Entire Floor of Brownstone     4869  LisaRoxanne   \n",
       "5022  Entire Apt: Spacious Studio/Loft by central park     7192        Laura   \n",
       "\n",
       "     neighbourhood_group neighbourhood  latitude  longitude        room_type  \\\n",
       "id                                                                             \n",
       "2539            Brooklyn    Kensington  40.64749  -73.97237     Private room   \n",
       "2595           Manhattan       Midtown  40.75362  -73.98377  Entire home/apt   \n",
       "3647           Manhattan        Harlem  40.80902  -73.94190     Private room   \n",
       "3831            Brooklyn  Clinton Hill  40.68514  -73.95976  Entire home/apt   \n",
       "5022           Manhattan   East Harlem  40.79851  -73.94399  Entire home/apt   \n",
       "\n",
       "      price  minimum_nights  number_of_reviews last_review  reviews_per_month  \\\n",
       "id                                                                              \n",
       "2539    149               1                  9  2018-10-19               0.21   \n",
       "2595    225               1                 45  2019-05-21               0.38   \n",
       "3647    150               3                  0  No reviews               0.00   \n",
       "3831     89               1                270  2019-07-05               4.64   \n",
       "5022     80              10                  9  2018-11-19               0.10   \n",
       "\n",
       "      calculated_host_listings_count  availability_365  \n",
       "id                                                      \n",
       "2539                               6               365  \n",
       "2595                               2               355  \n",
       "3647                               1               365  \n",
       "3831                               1               194  \n",
       "5022                               1                 0  "
      ]
     },
     "execution_count": 16,
     "metadata": {},
     "output_type": "execute_result"
    }
   ],
   "source": [
    "airbnb_df.head()"
   ]
  },
  {
   "cell_type": "markdown",
   "id": "cc79596b",
   "metadata": {},
   "source": [
    "Convert Column Data Types\n"
   ]
  },
  {
   "cell_type": "code",
   "execution_count": 17,
   "id": "d8d9ab69",
   "metadata": {},
   "outputs": [],
   "source": [
    "# Change id and host id column to string \n",
    "# Identifiers and math will not be performed on them\n",
    "airbnb_df.index = airbnb_df.index.astype(str)\n",
    "airbnb_df['host_id'] = airbnb_df['host_id'].astype(str)"
   ]
  },
  {
   "cell_type": "code",
   "execution_count": 18,
   "id": "2fd21f7a",
   "metadata": {},
   "outputs": [],
   "source": [
    "# Change the host_name to string\n",
    "airbnb_df['host_name'] = airbnb_df['host_name'].astype(str)"
   ]
  },
  {
   "cell_type": "code",
   "execution_count": 19,
   "id": "7abd7afa",
   "metadata": {},
   "outputs": [],
   "source": [
    "# Change neighbourhood_group, neighbourhood and room type\n",
    "# to category datatype\n",
    "# Saves memory and improves group operations\n",
    "airbnb_df['neighbourhood_group'] = airbnb_df['neighbourhood_group'].astype('category')\n",
    "airbnb_df['neighbourhood'] = airbnb_df['neighbourhood'].astype('category')\n",
    "airbnb_df['room_type'] = airbnb_df['room_type'].astype('category')"
   ]
  },
  {
   "cell_type": "code",
   "execution_count": 20,
   "id": "72145be1",
   "metadata": {},
   "outputs": [],
   "source": [
    "# Lastly, change last_review to datetime\n",
    "airbnb_df['last_review'] = pd.to_datetime(airbnb_df['last_review'], errors='coerce')"
   ]
  },
  {
   "cell_type": "code",
   "execution_count": 21,
   "id": "e721c050",
   "metadata": {},
   "outputs": [
    {
     "name": "stdout",
     "output_type": "stream",
     "text": [
      "<class 'pandas.core.frame.DataFrame'>\n",
      "Index: 48879 entries, 2539 to 36487245\n",
      "Data columns (total 15 columns):\n",
      " #   Column                          Non-Null Count  Dtype         \n",
      "---  ------                          --------------  -----         \n",
      " 0   name                            48879 non-null  object        \n",
      " 1   host_id                         48879 non-null  object        \n",
      " 2   host_name                       48879 non-null  object        \n",
      " 3   neighbourhood_group             48879 non-null  category      \n",
      " 4   neighbourhood                   48879 non-null  category      \n",
      " 5   latitude                        48879 non-null  float64       \n",
      " 6   longitude                       48879 non-null  float64       \n",
      " 7   room_type                       48879 non-null  category      \n",
      " 8   price                           48879 non-null  int64         \n",
      " 9   minimum_nights                  48879 non-null  int64         \n",
      " 10  number_of_reviews               48879 non-null  int64         \n",
      " 11  last_review                     38837 non-null  datetime64[ns]\n",
      " 12  reviews_per_month               48879 non-null  float64       \n",
      " 13  calculated_host_listings_count  48879 non-null  int64         \n",
      " 14  availability_365                48879 non-null  int64         \n",
      "dtypes: category(3), datetime64[ns](1), float64(3), int64(5), object(3)\n",
      "memory usage: 5.0+ MB\n"
     ]
    }
   ],
   "source": [
    "# Check all column datatypes\n",
    "airbnb_df.info()"
   ]
  },
  {
   "cell_type": "code",
   "execution_count": 22,
   "id": "a98c71fa",
   "metadata": {},
   "outputs": [
    {
     "data": {
      "text/plain": [
       "0"
      ]
     },
     "execution_count": 22,
     "metadata": {},
     "output_type": "execute_result"
    }
   ],
   "source": [
    "# Check for duplicate rows\n",
    "airbnb_df.duplicated().sum()"
   ]
  },
  {
   "cell_type": "code",
   "execution_count": 23,
   "id": "db5e7b61",
   "metadata": {
    "scrolled": true
   },
   "outputs": [
    {
     "data": {
      "text/plain": [
       "0"
      ]
     },
     "execution_count": 23,
     "metadata": {},
     "output_type": "execute_result"
    }
   ],
   "source": [
    "# Check for duplicate ids\n",
    "airbnb_df.index.duplicated().sum()"
   ]
  },
  {
   "cell_type": "markdown",
   "id": "14b47f81",
   "metadata": {},
   "source": [
    "Do a 'Sanity Check' to make sure nothing weird slips by before analysis"
   ]
  },
  {
   "cell_type": "code",
   "execution_count": 24,
   "id": "0933b0fa",
   "metadata": {},
   "outputs": [
    {
     "name": "stderr",
     "output_type": "stream",
     "text": [
      "/var/folders/20/42s_047j5kv430pdth61krl40000gn/T/ipykernel_27335/798117228.py:2: FutureWarning: Treating datetime data as categorical rather than numeric in `.describe` is deprecated and will be removed in a future version of pandas. Specify `datetime_is_numeric=True` to silence this warning and adopt the future behavior now.\n",
      "  airbnb_df.describe(include='all')\n"
     ]
    },
    {
     "data": {
      "text/html": [
       "<div>\n",
       "<style scoped>\n",
       "    .dataframe tbody tr th:only-of-type {\n",
       "        vertical-align: middle;\n",
       "    }\n",
       "\n",
       "    .dataframe tbody tr th {\n",
       "        vertical-align: top;\n",
       "    }\n",
       "\n",
       "    .dataframe thead th {\n",
       "        text-align: right;\n",
       "    }\n",
       "</style>\n",
       "<table border=\"1\" class=\"dataframe\">\n",
       "  <thead>\n",
       "    <tr style=\"text-align: right;\">\n",
       "      <th></th>\n",
       "      <th>name</th>\n",
       "      <th>host_id</th>\n",
       "      <th>host_name</th>\n",
       "      <th>neighbourhood_group</th>\n",
       "      <th>neighbourhood</th>\n",
       "      <th>latitude</th>\n",
       "      <th>longitude</th>\n",
       "      <th>room_type</th>\n",
       "      <th>price</th>\n",
       "      <th>minimum_nights</th>\n",
       "      <th>number_of_reviews</th>\n",
       "      <th>last_review</th>\n",
       "      <th>reviews_per_month</th>\n",
       "      <th>calculated_host_listings_count</th>\n",
       "      <th>availability_365</th>\n",
       "    </tr>\n",
       "  </thead>\n",
       "  <tbody>\n",
       "    <tr>\n",
       "      <th>count</th>\n",
       "      <td>48879</td>\n",
       "      <td>48879</td>\n",
       "      <td>48879</td>\n",
       "      <td>48879</td>\n",
       "      <td>48879</td>\n",
       "      <td>48879.000000</td>\n",
       "      <td>48879.000000</td>\n",
       "      <td>48879</td>\n",
       "      <td>48879.000000</td>\n",
       "      <td>48879.000000</td>\n",
       "      <td>48879.000000</td>\n",
       "      <td>38837</td>\n",
       "      <td>48879.000000</td>\n",
       "      <td>48879.000000</td>\n",
       "      <td>48879.000000</td>\n",
       "    </tr>\n",
       "    <tr>\n",
       "      <th>unique</th>\n",
       "      <td>47905</td>\n",
       "      <td>37443</td>\n",
       "      <td>11451</td>\n",
       "      <td>5</td>\n",
       "      <td>221</td>\n",
       "      <td>NaN</td>\n",
       "      <td>NaN</td>\n",
       "      <td>3</td>\n",
       "      <td>NaN</td>\n",
       "      <td>NaN</td>\n",
       "      <td>NaN</td>\n",
       "      <td>1764</td>\n",
       "      <td>NaN</td>\n",
       "      <td>NaN</td>\n",
       "      <td>NaN</td>\n",
       "    </tr>\n",
       "    <tr>\n",
       "      <th>top</th>\n",
       "      <td>Hillside Hotel</td>\n",
       "      <td>219517861</td>\n",
       "      <td>Michael</td>\n",
       "      <td>Manhattan</td>\n",
       "      <td>Williamsburg</td>\n",
       "      <td>NaN</td>\n",
       "      <td>NaN</td>\n",
       "      <td>Entire home/apt</td>\n",
       "      <td>NaN</td>\n",
       "      <td>NaN</td>\n",
       "      <td>NaN</td>\n",
       "      <td>2019-06-23 00:00:00</td>\n",
       "      <td>NaN</td>\n",
       "      <td>NaN</td>\n",
       "      <td>NaN</td>\n",
       "    </tr>\n",
       "    <tr>\n",
       "      <th>freq</th>\n",
       "      <td>18</td>\n",
       "      <td>327</td>\n",
       "      <td>417</td>\n",
       "      <td>21652</td>\n",
       "      <td>3918</td>\n",
       "      <td>NaN</td>\n",
       "      <td>NaN</td>\n",
       "      <td>25402</td>\n",
       "      <td>NaN</td>\n",
       "      <td>NaN</td>\n",
       "      <td>NaN</td>\n",
       "      <td>1413</td>\n",
       "      <td>NaN</td>\n",
       "      <td>NaN</td>\n",
       "      <td>NaN</td>\n",
       "    </tr>\n",
       "    <tr>\n",
       "      <th>first</th>\n",
       "      <td>NaN</td>\n",
       "      <td>NaN</td>\n",
       "      <td>NaN</td>\n",
       "      <td>NaN</td>\n",
       "      <td>NaN</td>\n",
       "      <td>NaN</td>\n",
       "      <td>NaN</td>\n",
       "      <td>NaN</td>\n",
       "      <td>NaN</td>\n",
       "      <td>NaN</td>\n",
       "      <td>NaN</td>\n",
       "      <td>2011-03-28 00:00:00</td>\n",
       "      <td>NaN</td>\n",
       "      <td>NaN</td>\n",
       "      <td>NaN</td>\n",
       "    </tr>\n",
       "    <tr>\n",
       "      <th>last</th>\n",
       "      <td>NaN</td>\n",
       "      <td>NaN</td>\n",
       "      <td>NaN</td>\n",
       "      <td>NaN</td>\n",
       "      <td>NaN</td>\n",
       "      <td>NaN</td>\n",
       "      <td>NaN</td>\n",
       "      <td>NaN</td>\n",
       "      <td>NaN</td>\n",
       "      <td>NaN</td>\n",
       "      <td>NaN</td>\n",
       "      <td>2019-07-08 00:00:00</td>\n",
       "      <td>NaN</td>\n",
       "      <td>NaN</td>\n",
       "      <td>NaN</td>\n",
       "    </tr>\n",
       "    <tr>\n",
       "      <th>mean</th>\n",
       "      <td>NaN</td>\n",
       "      <td>NaN</td>\n",
       "      <td>NaN</td>\n",
       "      <td>NaN</td>\n",
       "      <td>NaN</td>\n",
       "      <td>40.728945</td>\n",
       "      <td>-73.952168</td>\n",
       "      <td>NaN</td>\n",
       "      <td>152.722355</td>\n",
       "      <td>7.011027</td>\n",
       "      <td>23.281205</td>\n",
       "      <td>NaN</td>\n",
       "      <td>1.091248</td>\n",
       "      <td>7.145891</td>\n",
       "      <td>112.788989</td>\n",
       "    </tr>\n",
       "    <tr>\n",
       "      <th>std</th>\n",
       "      <td>NaN</td>\n",
       "      <td>NaN</td>\n",
       "      <td>NaN</td>\n",
       "      <td>NaN</td>\n",
       "      <td>NaN</td>\n",
       "      <td>0.054529</td>\n",
       "      <td>0.046160</td>\n",
       "      <td>NaN</td>\n",
       "      <td>240.186804</td>\n",
       "      <td>20.016000</td>\n",
       "      <td>44.556149</td>\n",
       "      <td>NaN</td>\n",
       "      <td>1.597433</td>\n",
       "      <td>32.957738</td>\n",
       "      <td>131.613322</td>\n",
       "    </tr>\n",
       "    <tr>\n",
       "      <th>min</th>\n",
       "      <td>NaN</td>\n",
       "      <td>NaN</td>\n",
       "      <td>NaN</td>\n",
       "      <td>NaN</td>\n",
       "      <td>NaN</td>\n",
       "      <td>40.499790</td>\n",
       "      <td>-74.244420</td>\n",
       "      <td>NaN</td>\n",
       "      <td>0.000000</td>\n",
       "      <td>1.000000</td>\n",
       "      <td>0.000000</td>\n",
       "      <td>NaN</td>\n",
       "      <td>0.000000</td>\n",
       "      <td>1.000000</td>\n",
       "      <td>0.000000</td>\n",
       "    </tr>\n",
       "    <tr>\n",
       "      <th>25%</th>\n",
       "      <td>NaN</td>\n",
       "      <td>NaN</td>\n",
       "      <td>NaN</td>\n",
       "      <td>NaN</td>\n",
       "      <td>NaN</td>\n",
       "      <td>40.690090</td>\n",
       "      <td>-73.983070</td>\n",
       "      <td>NaN</td>\n",
       "      <td>69.000000</td>\n",
       "      <td>1.000000</td>\n",
       "      <td>1.000000</td>\n",
       "      <td>NaN</td>\n",
       "      <td>0.040000</td>\n",
       "      <td>1.000000</td>\n",
       "      <td>0.000000</td>\n",
       "    </tr>\n",
       "    <tr>\n",
       "      <th>50%</th>\n",
       "      <td>NaN</td>\n",
       "      <td>NaN</td>\n",
       "      <td>NaN</td>\n",
       "      <td>NaN</td>\n",
       "      <td>NaN</td>\n",
       "      <td>40.723080</td>\n",
       "      <td>-73.955680</td>\n",
       "      <td>NaN</td>\n",
       "      <td>106.000000</td>\n",
       "      <td>3.000000</td>\n",
       "      <td>5.000000</td>\n",
       "      <td>NaN</td>\n",
       "      <td>0.370000</td>\n",
       "      <td>1.000000</td>\n",
       "      <td>45.000000</td>\n",
       "    </tr>\n",
       "    <tr>\n",
       "      <th>75%</th>\n",
       "      <td>NaN</td>\n",
       "      <td>NaN</td>\n",
       "      <td>NaN</td>\n",
       "      <td>NaN</td>\n",
       "      <td>NaN</td>\n",
       "      <td>40.763110</td>\n",
       "      <td>-73.936280</td>\n",
       "      <td>NaN</td>\n",
       "      <td>175.000000</td>\n",
       "      <td>5.000000</td>\n",
       "      <td>24.000000</td>\n",
       "      <td>NaN</td>\n",
       "      <td>1.580000</td>\n",
       "      <td>2.000000</td>\n",
       "      <td>227.000000</td>\n",
       "    </tr>\n",
       "    <tr>\n",
       "      <th>max</th>\n",
       "      <td>NaN</td>\n",
       "      <td>NaN</td>\n",
       "      <td>NaN</td>\n",
       "      <td>NaN</td>\n",
       "      <td>NaN</td>\n",
       "      <td>40.913060</td>\n",
       "      <td>-73.712990</td>\n",
       "      <td>NaN</td>\n",
       "      <td>10000.000000</td>\n",
       "      <td>1250.000000</td>\n",
       "      <td>629.000000</td>\n",
       "      <td>NaN</td>\n",
       "      <td>58.500000</td>\n",
       "      <td>327.000000</td>\n",
       "      <td>365.000000</td>\n",
       "    </tr>\n",
       "  </tbody>\n",
       "</table>\n",
       "</div>"
      ],
      "text/plain": [
       "                  name    host_id host_name neighbourhood_group neighbourhood  \\\n",
       "count            48879      48879     48879               48879         48879   \n",
       "unique           47905      37443     11451                   5           221   \n",
       "top     Hillside Hotel  219517861   Michael           Manhattan  Williamsburg   \n",
       "freq                18        327       417               21652          3918   \n",
       "first              NaN        NaN       NaN                 NaN           NaN   \n",
       "last               NaN        NaN       NaN                 NaN           NaN   \n",
       "mean               NaN        NaN       NaN                 NaN           NaN   \n",
       "std                NaN        NaN       NaN                 NaN           NaN   \n",
       "min                NaN        NaN       NaN                 NaN           NaN   \n",
       "25%                NaN        NaN       NaN                 NaN           NaN   \n",
       "50%                NaN        NaN       NaN                 NaN           NaN   \n",
       "75%                NaN        NaN       NaN                 NaN           NaN   \n",
       "max                NaN        NaN       NaN                 NaN           NaN   \n",
       "\n",
       "            latitude     longitude        room_type         price  \\\n",
       "count   48879.000000  48879.000000            48879  48879.000000   \n",
       "unique           NaN           NaN                3           NaN   \n",
       "top              NaN           NaN  Entire home/apt           NaN   \n",
       "freq             NaN           NaN            25402           NaN   \n",
       "first            NaN           NaN              NaN           NaN   \n",
       "last             NaN           NaN              NaN           NaN   \n",
       "mean       40.728945    -73.952168              NaN    152.722355   \n",
       "std         0.054529      0.046160              NaN    240.186804   \n",
       "min        40.499790    -74.244420              NaN      0.000000   \n",
       "25%        40.690090    -73.983070              NaN     69.000000   \n",
       "50%        40.723080    -73.955680              NaN    106.000000   \n",
       "75%        40.763110    -73.936280              NaN    175.000000   \n",
       "max        40.913060    -73.712990              NaN  10000.000000   \n",
       "\n",
       "        minimum_nights  number_of_reviews          last_review  \\\n",
       "count     48879.000000       48879.000000                38837   \n",
       "unique             NaN                NaN                 1764   \n",
       "top                NaN                NaN  2019-06-23 00:00:00   \n",
       "freq               NaN                NaN                 1413   \n",
       "first              NaN                NaN  2011-03-28 00:00:00   \n",
       "last               NaN                NaN  2019-07-08 00:00:00   \n",
       "mean          7.011027          23.281205                  NaN   \n",
       "std          20.016000          44.556149                  NaN   \n",
       "min           1.000000           0.000000                  NaN   \n",
       "25%           1.000000           1.000000                  NaN   \n",
       "50%           3.000000           5.000000                  NaN   \n",
       "75%           5.000000          24.000000                  NaN   \n",
       "max        1250.000000         629.000000                  NaN   \n",
       "\n",
       "        reviews_per_month  calculated_host_listings_count  availability_365  \n",
       "count        48879.000000                    48879.000000      48879.000000  \n",
       "unique                NaN                             NaN               NaN  \n",
       "top                   NaN                             NaN               NaN  \n",
       "freq                  NaN                             NaN               NaN  \n",
       "first                 NaN                             NaN               NaN  \n",
       "last                  NaN                             NaN               NaN  \n",
       "mean             1.091248                        7.145891        112.788989  \n",
       "std              1.597433                       32.957738        131.613322  \n",
       "min              0.000000                        1.000000          0.000000  \n",
       "25%              0.040000                        1.000000          0.000000  \n",
       "50%              0.370000                        1.000000         45.000000  \n",
       "75%              1.580000                        2.000000        227.000000  \n",
       "max             58.500000                      327.000000        365.000000  "
      ]
     },
     "execution_count": 24,
     "metadata": {},
     "output_type": "execute_result"
    }
   ],
   "source": [
    "# Do an in-depth describe \n",
    "airbnb_df.describe(include='all')"
   ]
  },
  {
   "cell_type": "code",
   "execution_count": 25,
   "id": "0df3c8dd",
   "metadata": {},
   "outputs": [
    {
     "name": "stdout",
     "output_type": "stream",
     "text": [
      "['Brooklyn', 'Manhattan', 'Queens', 'Staten Island', 'Bronx']\n",
      "Categories (5, object): ['Bronx', 'Brooklyn', 'Manhattan', 'Queens', 'Staten Island']\n"
     ]
    }
   ],
   "source": [
    "# Check unique values of neighbourhood group\n",
    "print(airbnb_df['neighbourhood_group'].unique())\n",
    "# Make sure values are normalized\n",
    "airbnb_df['neighbourhood_group'] = airbnb_df['neighbourhood_group'].str.strip()"
   ]
  },
  {
   "cell_type": "code",
   "execution_count": 26,
   "id": "21772ebf",
   "metadata": {},
   "outputs": [
    {
     "name": "stdout",
     "output_type": "stream",
     "text": [
      "['Kensington', 'Midtown', 'Harlem', 'Clinton Hill', 'East Harlem', ..., 'Bull's Head', 'New Dorp', 'Rossville', 'Breezy Point', 'Willowbrook']\n",
      "Length: 221\n",
      "Categories (221, object): ['Allerton', 'Arden Heights', 'Arrochar', 'Arverne', ..., 'Woodhaven', 'Woodlawn', 'Woodrow', 'Woodside']\n"
     ]
    }
   ],
   "source": [
    "# Check unique values for neighbourhood\n",
    "print(airbnb_df['neighbourhood'].unique())\n",
    "# Normalize all values\n",
    "airbnb_df['neighbourhood'] = airbnb_df['neighbourhood'].str.strip()"
   ]
  },
  {
   "cell_type": "code",
   "execution_count": 27,
   "id": "74d07e12",
   "metadata": {},
   "outputs": [
    {
     "name": "stdout",
     "output_type": "stream",
     "text": [
      "['Private room', 'Entire home/apt', 'Shared room']\n",
      "Categories (3, object): ['Entire home/apt', 'Private room', 'Shared room']\n"
     ]
    }
   ],
   "source": [
    "# Check unique values for room_type\n",
    "print(airbnb_df['room_type'].unique())\n",
    "# Normalize all values\n",
    "airbnb_df['room_type'] = airbnb_df['room_type'].str.strip()"
   ]
  },
  {
   "cell_type": "code",
   "execution_count": 28,
   "id": "a7f8f140",
   "metadata": {},
   "outputs": [
    {
     "name": "stdout",
     "output_type": "stream",
     "text": [
      "[  149   225   150    89    80   200    60    79   135    85   120   140\n",
      "   215    99   190   299   130   110    44   180    50    52    55    70\n",
      "    35    40    68   115   151   228   144    69    49   375   250   275\n",
      "   230    51    65   105    95   145   285    94   800   131    98   100\n",
      "   125   175   500   101   220    59   350   199   325   235   170   400\n",
      "    75    90   185    77    76   160   195   156   219   475   165   196\n",
      "    83   123   265   249   121    45    71    64   159   189   239   305\n",
      "   155    92    36    37   205    39   390   129   212   124   122   109\n",
      "   575   229   169   113   179   349   139   650    67   599   211   290\n",
      "    87   395   260    97   132   141   495   259    96   295   451   300\n",
      "    42   255    72    88   450   198    46    33   106    91  2000   429\n",
      "   107    43   248    41   157   172   146   116   288   270   241   399\n",
      "   438   279   137   280   226   154   700   246   119   850    81    54\n",
      "   760    48    58   153    73   485   310   167   147    34    93    56\n",
      "  1300   127   402    30   240   385    47   209   192    86   245   499\n",
      "   387   178  3000   549    20    74   104   298   269   138   208   142\n",
      "   174   315   210   311    82   117   380   328   102   118   217   152\n",
      "   197   133   331   128   136   148  1000   263   433    61   234   595\n",
      "   108   355   134    62   550    84    78   900   103   330   425   168\n",
      "    66   625   171   187   600   312    38   163   158   173   465    63\n",
      "   340    57  4000   999   289   166   176   339   191  2500   329   890\n",
      "    53   420   950   334  1395   221   182   750   181   112  1500  1899\n",
      "   188   262   111   162    29   232  5000   345  1100   224    10   194\n",
      "    31  1200   440   439   555   143   184   799   455   193   161   201\n",
      "  1700   525    32   251  1999   480   320   164   272   177   560  6000\n",
      "   379   303   675   749  5250  1550  1250  1485   369  6500  2750  3750\n",
      "  1600   975    25    18  2300   409   218   430  4500  8000   795   414\n",
      "   126    16   785   370    22   316   264   318   273   308   365   216\n",
      "   545   860   540   233  1400   383   419  1050  2695   985   360   699\n",
      "   227   247   895  9999   258  2400   254   346   415   995  1763   510\n",
      "  1450   281    27    28   825   524   202   244   114   341   257   322\n",
      "   276   207   445   284   449   680  1495   256   888   389   460 10000\n",
      "   222   243   267   398   386   319   238   374   490   335  1195   203\n",
      "   469   186   352   297   237   745   410  1170   261  1150   434   590\n",
      "   899   304   296   183   531   214   655    24   477   372   206    26\n",
      "   587   204  1731  1002   333   283   814  1800   278   421   690   619\n",
      "  2100   348   223   268   359   436   935   274   376   980   294   559\n",
      "   509   301   408  3800   479  2350   822    23   407   489   252   672\n",
      "   378   584   894   643   462   649   302   321   534   748   487   236\n",
      "  1020    19  1599    21   585  2590    11   640   459    12  2250   484\n",
      "   337   317    15  2800  1475   615  2900   287     0   515  1067   424\n",
      "   578   789  1795  1095   530  3900   496   435   422   367   695  1177\n",
      "   790   253   573   766   231   840   577   589   949   358   213  2200\n",
      "   497  1066   412   647   277   720  2010  3210  4160  1046   271   416\n",
      "  1680  7703  3518  6419  2626  2103  8500  2990   620   394   323   974\n",
      "   344  1333   780   347   393   309   483   737   470   689   639   848\n",
      "   403   471   377   282   314   478   670  2545  1115   520   913   505\n",
      "   718   692  3600   307   306  1880   714   956   266   292  2999   418\n",
      "   452   397   343   291   392   356   242   396   332   361   453   481\n",
      "   466   388   423   362   313   805   725   443  1350  3200   293   432\n",
      "   444  1075   820   373  1750  1080  1299  1295   519  1978  1494  3512\n",
      "   382   404   503   472   454   431   468   498   612   488  1497  2850\n",
      "   990   506   324  1315   446  7500  3613  2600  4100   794  1145  1306\n",
      "   336  5100   898   327   442   474  1799   353  4200   616  6800   945\n",
      "   539   426   875   463   688   580   583   381  1900   659   830    13\n",
      "   447  1099   428   920   930  2995   342   843   417  1308   561  1369\n",
      "  1749   338]\n"
     ]
    }
   ],
   "source": [
    "# Check unique values for price\n",
    "print(airbnb_df['price'].unique())\n",
    "# Check for non-numeric values\n",
    "airbnb_df['price'].apply(type).value_counts()\n",
    "# Remove/convert non-numeric or missing values\n",
    "#airbnb_df['price'] = pd.to_numeric(airbnb_df['price'], errors='coerce')\n",
    "#airbnb_df = airbnb_df[airbnb_df['price'].notna()]"
   ]
  },
  {
   "cell_type": "markdown",
   "id": "4c0e2d14",
   "metadata": {},
   "source": [
    "Now that we have a nice, clean dataset,\n",
    "Lets begin exploring and visualizing the data"
   ]
  },
  {
   "cell_type": "code",
   "execution_count": 29,
   "id": "3bad5b45",
   "metadata": {},
   "outputs": [
    {
     "data": {
      "image/png": "[encoded data removed]",
      "text/plain": [
       "<Figure size 576x360 with 1 Axes>"
      ]
     },
     "metadata": {
      "needs_background": "light"
     },
     "output_type": "display_data"
    }
   ],
   "source": [
    "# Visualize the number of listings per bourough (neighbourhood_groups)\n",
    "plt.figure(figsize=(8,5))\n",
    "# Plot bars by neighbourhood_group, order the bars by value counts, use palette for better contrast\n",
    "ax = sns.countplot(data=airbnb_df, x='neighbourhood_group',\n",
    "              order=airbnb_df['neighbourhood_group'].value_counts().index, \n",
    "                  palette='Set1') #hue='neighbourhood_group'\n",
    "plt.title('Number of Listings by Borough')\n",
    "plt.xlabel('Borough')\n",
    "plt.ylabel('Number of Listings')\n",
    "plt.xticks(rotation=45)\n",
    "# Add value labels on top of each bar\n",
    "for container in ax.containers:\n",
    "    ax.bar_label(container, padding=3)\n",
    "plt.tight_layout()\n",
    "plt.show()"
   ]
  },
  {
   "cell_type": "code",
   "execution_count": 30,
   "id": "04db2475",
   "metadata": {
    "scrolled": true
   },
   "outputs": [
    {
     "data": {
      "image/png": "[encoded data removed]",
      "text/plain": [
       "<Figure size 576x360 with 1 Axes>"
      ]
     },
     "metadata": {
      "needs_background": "light"
     },
     "output_type": "display_data"
    }
   ],
   "source": [
    "# Plot the number of listings by room_type\n",
    "plt.figure(figsize=(8,5))\n",
    "ax = sns.countplot(data=airbnb_df, x='room_type', \n",
    "              order=airbnb_df['room_type'].value_counts().index,\n",
    "                  palette='Set1')\n",
    "plt.title('Counts of room types')\n",
    "plt.xlabel('Room Type')\n",
    "plt.ylabel('Count')\n",
    "plt.xticks(rotation=45)\n",
    "\n",
    "# Add value labels on top of each bar\n",
    "for container in ax.containers:\n",
    "    ax.bar_label(container, padding=3)\n",
    "\n",
    "plt.tight_layout()\n",
    "plt.show()"
   ]
  },
  {
   "cell_type": "code",
   "execution_count": 31,
   "id": "5a639179",
   "metadata": {},
   "outputs": [
    {
     "data": {
      "image/png": "[encoded data removed]",
      "text/plain": [
       "<Figure size 720x432 with 1 Axes>"
      ]
     },
     "metadata": {
      "needs_background": "light"
     },
     "output_type": "display_data"
    }
   ],
   "source": [
    "# Visualize the room types per borough\n",
    "plt.figure(figsize=(10,6))\n",
    "ax = sns.countplot(\n",
    "data=airbnb_df,\n",
    "x='neighbourhood_group',\n",
    "hue='room_type',\n",
    "palette='Set1')\n",
    "plt.title('Room Types per Borough')\n",
    "plt.xlabel('Borough')\n",
    "plt.ylabel('Number of Listings')\n",
    "plt.xticks(rotation=45)\n",
    "plt.legend(title='Room Type')\n",
    "\n",
    "for container in ax.containers:\n",
    "    ax.bar_label(container, padding=3)\n",
    "\n",
    "plt.tight_layout()\n",
    "plt.show()"
   ]
  },
  {
   "cell_type": "markdown",
   "id": "2b395a5e",
   "metadata": {},
   "source": [
    "Begin visualization of Prices and how they compare with room types, different boroughs, etc."
   ]
  },
  {
   "cell_type": "code",
   "execution_count": 32,
   "id": "59aaea67",
   "metadata": {
    "scrolled": true
   },
   "outputs": [
    {
     "data": {
      "image/png": "[encoded data removed]",
      "text/plain": [
       "<Figure size 720x432 with 1 Axes>"
      ]
     },
     "metadata": {
      "needs_background": "light"
     },
     "output_type": "display_data"
    }
   ],
   "source": [
    "# Visualize the raw price distribution\n",
    "plt.figure(figsize=(10,6))\n",
    "sns.histplot(airbnb_df['price'], bins=100, kde=True)\n",
    "plt.title('Distribution of Listing Prices (Raw)')\n",
    "plt.xlabel('Price ($)')\n",
    "plt.ylabel('Number of Listings')\n",
    "plt.show()"
   ]
  },
  {
   "cell_type": "code",
   "execution_count": 33,
   "id": "d1a93e73",
   "metadata": {},
   "outputs": [],
   "source": [
    "# Filter the price column for listings under $1000\n",
    "# Most listings are under $1000 and the rest skew the analysis\n",
    "price_filtered_df = airbnb_df[airbnb_df['price'] < 1000]"
   ]
  },
  {
   "cell_type": "code",
   "execution_count": 34,
   "id": "92857b86",
   "metadata": {},
   "outputs": [
    {
     "data": {
      "image/png": "[encoded data removed]",
      "text/plain": [
       "<Figure size 720x432 with 1 Axes>"
      ]
     },
     "metadata": {
      "needs_background": "light"
     },
     "output_type": "display_data"
    }
   ],
   "source": [
    "# Replot the price distribution with the filtered df\n",
    "plt.figure(figsize=(10,6))\n",
    "sns.histplot(price_filtered_df['price'], bins=100, kde=True)\n",
    "plt.title('Distribution of Listing Prices under $1000')\n",
    "plt.xlabel('Price')\n",
    "plt.ylabel('Number of Listings')\n",
    "plt.show()"
   ]
  },
  {
   "cell_type": "code",
   "execution_count": 35,
   "id": "81878d63",
   "metadata": {
    "scrolled": false
   },
   "outputs": [
    {
     "data": {
      "image/png": "[encoded data removed]",
      "text/plain": [
       "<Figure size 720x432 with 1 Axes>"
      ]
     },
     "metadata": {
      "needs_background": "light"
     },
     "output_type": "display_data"
    }
   ],
   "source": [
    "# Visualize the price by room type\n",
    "plt.figure(figsize=(10,6))\n",
    "sns.boxplot(data=price_filtered_df,\n",
    "           x='room_type',\n",
    "           y='price',\n",
    "           palette='Set1')\n",
    "plt.title('Price Distribution by Room Type')\n",
    "plt.xlabel('Room Type')\n",
    "plt.ylabel('Price')\n",
    "plt.yscale('log') # Can help with the skew\n",
    "plt.show()"
   ]
  },
  {
   "cell_type": "code",
   "execution_count": 41,
   "id": "c964e515",
   "metadata": {},
   "outputs": [
    {
     "data": {
      "image/png": "[encoded data removed]",
      "text/plain": [
       "<Figure size 720x432 with 1 Axes>"
      ]
     },
     "metadata": {
      "needs_background": "light"
     },
     "output_type": "display_data"
    }
   ],
   "source": [
    "# Visualize the average price for each room type\n",
    "plt.figure(figsize=(10,6))\n",
    "ax = sns.barplot(data=price_filtered_df,\n",
    "           x='room_type',\n",
    "           y='price',\n",
    "           estimator=np.mean,\n",
    "           ci=None,\n",
    "           palette='Set1')\n",
    "plt.title('Average Price by Room Type')\n",
    "plt.xlabel('Room Type')\n",
    "plt.ylabel('Price')\n",
    "\n",
    "for container in ax.containers:\n",
    "    ax.bar_label(container, padding=2)\n",
    "plt.show()"
   ]
  },
  {
   "cell_type": "code",
   "execution_count": null,
   "id": "17ef6e51",
   "metadata": {},
   "outputs": [],
   "source": []
  }
 ],
 "metadata": {
  "kernelspec": {
   "display_name": "Python 3 (ipykernel)",
   "language": "python",
   "name": "python3"
  },
  "language_info": {
   "codemirror_mode": {
    "name": "ipython",
    "version": 3
   },
   "file_extension": ".py",
   "mimetype": "text/x-python",
   "name": "python",
   "nbconvert_exporter": "python",
   "pygments_lexer": "ipython3",
   "version": "3.9.12"
  }
 },
 "nbformat": 4,
 "nbformat_minor": 5
}
